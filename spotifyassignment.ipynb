{
 "cells": [
  {
   "cell_type": "code",
   "execution_count": 21,
   "metadata": {},
   "outputs": [],
   "source": [
    "%matplotlib inline\n",
    "import pandas as pd\n",
    "import json\n",
    "import matplotlib.pyplot as plt\n",
    "from scipy.sparse import lil_matrix\n",
    "import scipy.spatial.distance\n",
    "import csv\n",
    "from scipy.spatial.distance import cosine\n"
   ]
  },
  {
   "cell_type": "code",
   "execution_count": 15,
   "metadata": {},
   "outputs": [],
   "source": [
    "artist_name_map = {}\n",
    "artist_genre_map = {}\n",
    "artist_title_map = {}\n",
    "\n",
    "df = pd.read_csv('Spotify-2000.csv')\n"
   ]
  },
  {
   "cell_type": "code",
   "execution_count": 25,
   "metadata": {},
   "outputs": [
    {
     "name": "stdout",
     "output_type": "stream",
     "text": [
      "\n",
      "Top 10 most similar artists to Beyoncé:\n",
      "First Aid Kit: 0.9817711365169072\n",
      "OneRepublic: 0.9816519079895775\n",
      "Journey: 0.9805372165925234\n",
      "David Guetta: 0.9796908414724502\n",
      "Lady Antebellum: 0.9796425940456925\n",
      "The Chainsmokers: 0.9795746870714249\n",
      "Cher: 0.9794744032662097\n",
      "George Harrison: 0.9790194555044555\n",
      "The Fray: 0.9789536040632573\n",
      "The Cult: 0.9787689272611512\n",
      "\n",
      "Top 10 most similar artists to Taylor Swift:\n",
      "Iron Butterfly: 0.9965645706639197\n",
      "Pharrell Williams: 0.9948758777427686\n",
      "Patrick Hernandez: 0.9945018592418253\n",
      "Barry White: 0.9944493418943747\n",
      "Luis Fonsi: 0.9935181546908086\n",
      "The Trammps: 0.9934971905778708\n",
      "The Shadows: 0.9925010998281452\n",
      "Mud: 0.9921205814439888\n",
      "Traveling Wilburys: 0.9919629378813106\n",
      "Gigi D'Agostino: 0.9917956139230645\n",
      "\n",
      "Top 10 most similar artists to Backstreet Boys:\n",
      "Jamiroquai: 0.9945499047474489\n",
      "First Aid Kit: 0.9940147516952118\n",
      "Boney M.: 0.9936712441463216\n",
      "Survivor: 0.9931686181098808\n",
      "OneRepublic: 0.993141972798605\n",
      "Natasha Bedingfield: 0.9931344502445689\n",
      "Traveling Wilburys: 0.9928623289543261\n",
      "Level 42: 0.9926811285842041\n",
      "Carly Simon: 0.9925078448872253\n",
      "Calvin Harris: 0.9923173460670365\n"
     ]
    }
   ],
   "source": [
    "numeric_columns = ['Beats Per Minute (BPM)', 'Energy', 'Danceability', 'Loudness (dB)', 'Liveness', 'Valence', 'Length (Duration)', 'Acousticness', 'Speechiness', 'Popularity']\n",
    "for column in numeric_columns:\n",
    "    df[column] = pd.to_numeric(df[column], errors='coerce')\n",
    "\n",
    "df = df.dropna(subset=numeric_columns)\n",
    "\n",
    "artist_traits = {}\n",
    "\n",
    "for index, row in df.iterrows():\n",
    "    artist = row['Artist']\n",
    "    if artist not in artist_traits:\n",
    "        artist_traits[artist] = []\n",
    "    traits = [row[column] for column in numeric_columns]\n",
    "    artist_traits[artist].append(traits)\n",
    "\n",
    "cosine_sim = {}\n",
    "for artist1 in artist_traits.keys():\n",
    "    for artist2 in artist_traits.keys():\n",
    "        if artist1 != artist2:\n",
    "            similarities = []\n",
    "            for traits1 in artist_traits[artist1]:\n",
    "                for traits2 in artist_traits[artist2]:\n",
    "                    similarities.append(1 - cosine(traits1, traits2))\n",
    "            cosine_sim[(artist1, artist2)] = sum(similarities) / len(similarities)\n",
    "\n",
    "artists_of_interest = [\"Beyoncé\", \"Taylor Swift\", \"Backstreet Boys\"]\n",
    "\n",
    "for artist in artists_of_interest:\n",
    "    print(f\"\\nTop 10 most similar artists to {artist}:\")\n",
    "    similar_artists = sorted([(key[1], value) for key, value in cosine_sim.items() if key[0] == artist], key=lambda x: x[1], reverse=True)[:10]\n",
    "    for similar_artist, similarity_score in similar_artists:\n",
    "        print(f\"{similar_artist}: {similarity_score}\")\n"
   ]
  },
  {
   "cell_type": "code",
   "execution_count": null,
   "metadata": {},
   "outputs": [],
   "source": []
  }
 ],
 "metadata": {
  "kernelspec": {
   "display_name": "Python 3",
   "language": "python",
   "name": "python3"
  },
  "language_info": {
   "codemirror_mode": {
    "name": "ipython",
    "version": 3
   },
   "file_extension": ".py",
   "mimetype": "text/x-python",
   "name": "python",
   "nbconvert_exporter": "python",
   "pygments_lexer": "ipython3",
   "version": "3.11.4"
  }
 },
 "nbformat": 4,
 "nbformat_minor": 2
}
